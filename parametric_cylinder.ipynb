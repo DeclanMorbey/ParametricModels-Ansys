{
 "cells": [
  {
   "cell_type": "code",
   "execution_count": 1,
   "id": "1b441381-b325-4b26-9390-013602406a99",
   "metadata": {},
   "outputs": [],
   "source": [
    "import cadquery as cq\n",
    "import paramak \n",
    "import os \n",
    "import numpy as np"
   ]
  },
  {
   "cell_type": "code",
   "execution_count": 4,
   "id": "66b44847-1e11-4601-a5ba-76bbb78c85b3",
   "metadata": {},
   "outputs": [
    {
     "name": "stdout",
     "output_type": "stream",
     "text": [
      "Saved file as geometry/stp_files/99.stp\n",
      "color is  (0.984, 0.603, 0.6)\n",
      "\n",
      " saved 2d image to geometry/png_files/99.png\n"
     ]
    },
    {
     "data": {
      "application/vnd.jupyter.widget-view+json": {
       "model_id": "81d60645de1a441abfdb957f40fc9b15",
       "version_major": 2,
       "version_minor": 0
      },
      "text/plain": [
       "HBox(children=(VBox(children=(HBox(children=(Checkbox(value=False, description='Axes', indent=False, _dom_clas…"
      ]
     },
     "metadata": {},
     "output_type": "display_data"
    }
   ],
   "source": [
    "for i in range(99,100):\n",
    "    radius = 5\n",
    "    length = i # np.random.randint(1,100)\n",
    "    my_shape = paramak.ExtrudeCircleShape(points=[(50,0)], radius=radius, distance=length)\n",
    "    my_shape.export_stp('geometry/stp_files/'+str(i)+'.stp')\n",
    "    my_shape.export_2d_image('geometry/png_files/'+str(i)+'.png')\n",
    "    my_shape.export_html_3d('geometry/html_files_3d/'+str(i)+'.html')"
   ]
  },
  {
   "cell_type": "code",
   "execution_count": null,
   "id": "25bb63c1-2e1c-4d3c-9bd3-53b9d64ca5ed",
   "metadata": {},
   "outputs": [],
   "source": []
  },
  {
   "cell_type": "code",
   "execution_count": null,
   "id": "4e32cc42-a3a2-4d8d-8baf-c7b3e4f0f827",
   "metadata": {},
   "outputs": [],
   "source": []
  },
  {
   "cell_type": "code",
   "execution_count": null,
   "id": "339d02f2-4020-491e-a2aa-2b4272fb13a9",
   "metadata": {},
   "outputs": [],
   "source": []
  },
  {
   "cell_type": "code",
   "execution_count": null,
   "id": "1fd1b104-7592-4bc8-aa7a-e24ca015fda1",
   "metadata": {},
   "outputs": [],
   "source": []
  },
  {
   "cell_type": "code",
   "execution_count": null,
   "id": "845643c4-0eca-4894-8387-058a90667601",
   "metadata": {},
   "outputs": [],
   "source": []
  },
  {
   "cell_type": "code",
   "execution_count": null,
   "id": "020fd9c9-bacb-4efe-8998-ec1fa191dafb",
   "metadata": {},
   "outputs": [],
   "source": []
  }
 ],
 "metadata": {
  "kernelspec": {
   "display_name": "Python 3",
   "language": "python",
   "name": "python3"
  },
  "language_info": {
   "codemirror_mode": {
    "name": "ipython",
    "version": 3
   },
   "file_extension": ".py",
   "mimetype": "text/x-python",
   "name": "python",
   "nbconvert_exporter": "python",
   "pygments_lexer": "ipython3",
   "version": "3.8.12"
  }
 },
 "nbformat": 4,
 "nbformat_minor": 5
}
